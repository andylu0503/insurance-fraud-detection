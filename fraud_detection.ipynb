{
 "cells": [
  {
   "cell_type": "code",
   "execution_count": null,
   "id": "ca771653",
   "metadata": {},
   "outputs": [],
   "source": [
    "# Insurance Fraud Detection - Google Colab Version"
   ]
  },
  {
   "cell_type": "code",
   "execution_count": null,
   "id": "0a122cfe",
   "metadata": {},
   "outputs": [],
   "source": [
    "## Step 1: Import libraries\n",
    "import pandas as pd\n",
    "import numpy as np\n",
    "import matplotlib.pyplot as plt\n",
    "import seaborn as sns"
   ]
  },
  {
   "cell_type": "code",
   "execution_count": null,
   "id": "da6377e3",
   "metadata": {},
   "outputs": [],
   "source": [
    "from sklearn.model_selection import train_test_split\n",
    "from sklearn.preprocessing import LabelEncoder\n",
    "from sklearn.ensemble import RandomForestClassifier\n",
    "from sklearn.linear_model import LogisticRegression\n",
    "from sklearn.metrics import classification_report, confusion_matrix, roc_auc_score"
   ]
  },
  {
   "cell_type": "code",
   "execution_count": null,
   "id": "62ce8b3b",
   "metadata": {},
   "outputs": [],
   "source": [
    "## Step 2: Load dataset (make sure to upload insurance.csv)\n",
    "from google.colab import files\n",
    "uploaded = files.upload()"
   ]
  },
  {
   "cell_type": "code",
   "execution_count": null,
   "id": "2a233514",
   "metadata": {},
   "outputs": [],
   "source": [
    "df = pd.read_csv('insurance.csv')\n",
    "df.head()"
   ]
  },
  {
   "cell_type": "code",
   "execution_count": null,
   "id": "2e06087a",
   "metadata": {},
   "outputs": [],
   "source": [
    "## Step 3: Basic info\n",
    "print(df.shape)\n",
    "print(df.dtypes)\n",
    "print(df.isnull().sum())"
   ]
  },
  {
   "cell_type": "code",
   "execution_count": null,
   "id": "f201eda1",
   "metadata": {},
   "outputs": [],
   "source": [
    "## Step 4: Drop columns with too many missing or irrelevant\n",
    "df = df.drop(columns=['_c39', 'policy_number', 'policy_bind_date', 'insured_zip'])"
   ]
  },
  {
   "cell_type": "code",
   "execution_count": null,
   "id": "1c749726",
   "metadata": {},
   "outputs": [],
   "source": [
    "## Step 5: Encode categorical columns\n",
    "cat_cols = df.select_dtypes(include=['object']).columns\n",
    "label_encoders = {}\n",
    "for col in cat_cols:\n",
    "    if df[col].nunique() <= 20:\n",
    "        le = LabelEncoder()\n",
    "        df[col] = le.fit_transform(df[col].astype(str))\n",
    "        label_encoders[col] = le"
   ]
  },
  {
   "cell_type": "code",
   "execution_count": null,
   "id": "217a0554",
   "metadata": {},
   "outputs": [],
   "source": [
    "## Step 6: Define features and target\n",
    "X = df.drop(columns=['fraud_reported'])\n",
    "y = df['fraud_reported'].map({'Y': 1, 'N': 0})  # 1 = Fraud, 0 = Not Fraud"
   ]
  },
  {
   "cell_type": "code",
   "execution_count": null,
   "id": "2ca7d94e",
   "metadata": {},
   "outputs": [],
   "source": [
    "## Step 7: Split data\n",
    "X_train, X_test, y_train, y_test = train_test_split(X, y, test_size=0.3, random_state=42)"
   ]
  },
  {
   "cell_type": "code",
   "execution_count": null,
   "id": "b92bbffb",
   "metadata": {},
   "outputs": [],
   "source": [
    "## Step 8: Train models\n",
    "rf = RandomForestClassifier(random_state=42)\n",
    "rf.fit(X_train, y_train)\n",
    "y_pred_rf = rf.predict(X_test)"
   ]
  },
  {
   "cell_type": "code",
   "execution_count": null,
   "id": "a4f728e5",
   "metadata": {},
   "outputs": [],
   "source": [
    "## Step 9: Evaluate\n",
    "print(\"Random Forest Classifier:\")\n",
    "print(confusion_matrix(y_test, y_pred_rf))\n",
    "print(classification_report(y_test, y_pred_rf))\n",
    "print(\"ROC AUC Score:\", roc_auc_score(y_test, rf.predict_proba(X_test)[:,1]))"
   ]
  },
  {
   "cell_type": "code",
   "execution_count": null,
   "id": "44e39f4b",
   "metadata": {},
   "outputs": [],
   "source": [
    "## Optional: Feature importance\n",
    "feat_importances = pd.Series(rf.feature_importances_, index=X.columns)\n",
    "feat_importances.nlargest(10).plot(kind='barh')\n",
    "plt.title(\"Top 10 Feature Importances\")\n",
    "plt.show()"
   ]
  }
 ],
 "metadata": {},
 "nbformat": 4,
 "nbformat_minor": 5
}
